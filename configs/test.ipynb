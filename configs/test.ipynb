{
 "cells": [
  {
   "cell_type": "code",
   "execution_count": 3,
   "metadata": {},
   "outputs": [
    {
     "name": "stdout",
     "output_type": "stream",
     "text": [
      "/root/PromptMRG/data/mimic_cxr/mimic_annotation_promptmrg.json\n"
     ]
    }
   ],
   "source": [
    "import yaml\n",
    "import argparse\n",
    "\n",
    "class Config:\n",
    "    def __init__(self, dictionary):\n",
    "        for k, v in dictionary.items():\n",
    "            if isinstance(v, dict):\n",
    "                self.__dict__[k] = Config(v)\n",
    "            else:\n",
    "                self.__dict__[k] = v\n",
    "\n",
    "def load_config_from_yaml(yaml_file_path):\n",
    "    with open(yaml_file_path, 'r') as file:\n",
    "        config_dict = yaml.safe_load(file)\n",
    "    return Config(config_dict)\n",
    "\n",
    "# 使用方法\n",
    "config = load_config_from_yaml('test_mimic.yaml')\n",
    "print(config.DataInputSettings.ann_path)"
   ]
  }
 ],
 "metadata": {
  "kernelspec": {
   "display_name": "promptmrg",
   "language": "python",
   "name": "python3"
  },
  "language_info": {
   "codemirror_mode": {
    "name": "ipython",
    "version": 3
   },
   "file_extension": ".py",
   "mimetype": "text/x-python",
   "name": "python",
   "nbconvert_exporter": "python",
   "pygments_lexer": "ipython3",
   "version": "3.10.14"
  }
 },
 "nbformat": 4,
 "nbformat_minor": 2
}
